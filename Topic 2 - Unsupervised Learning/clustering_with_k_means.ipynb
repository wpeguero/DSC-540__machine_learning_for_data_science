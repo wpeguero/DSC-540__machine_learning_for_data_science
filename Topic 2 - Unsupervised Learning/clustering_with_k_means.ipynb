{
 "cells": [
  {
   "cell_type": "markdown",
   "metadata": {},
   "source": [
    "# Clustering with K-Means Algorithms\n",
    "\n",
    "### By Wilson Peguero Rosario\n",
    "\n",
    "## Assignment Description\n",
    "Clustering is an unsupervised machine learning method used for grouping similar data in datasets so it can be easily understood and manipulated. One such algorithm, k-means, takes data and learns how it can be grouped. Some real-world examples of its use include fake news identification, fantasy league stat analysis, insurance fraud detection, or customer/market segmentation.\n",
    "\n",
    "To perform a k-means analysis using the k-means algorithm, complete the following:\n",
    "\n",
    "1. Access the \"UCI Machine Learning Repository,\" located in the topic Resources. Note: There are about 120 data sets that are suitable for use in a clustering task. For this part of the exercise, you must choose two of these datasets, provided they include at least 10 attributes and 10,000 instances.\n",
    "2. Ensure that the datasets are suitable for clustering using these methods.\n",
    "3. You may search for data in other repositories, such as Data.gov or Kaggle.\n",
    "\n",
    "For your selected datasets, build a K-means clustering model.\n",
    "\n",
    "1. Start by choosing the number of clusters. Discuss how you would find the optimal number of clusters that best fits the dataset.\n",
    "    - *Finding the optimal number of clusters can be done through either the elbow method or the silhouette method. Although they are both valuable to interpreting the data set and it's subgroups, the number clusters can be ideally determined by using the elbow method. The silhouette method works great as a confirmation to the number of clusters chosen.*\n",
    "2. Randomly pick k centroids \"not necessarily from your dataset\" (or points that will be the center of your clusters) in d-space. Try to make them near the data but different from one another.\n",
    "    - *This may require further studying and reading. The textbooks may help if anything.*\n",
    "1. Assign each data point to the closest centroid. This will form your k clusters. Apply the Euclidian distance to form your clusters.\n",
    "1. Move the centroids to the average location of the data points assigned to it.\n",
    "1. Repeat the preceding two steps until the assignments do not change or change very little.\n",
    "\n",
    "**Note**: A key objective is to minimize the variation within the clusters defined as **the sum of squared Euclidean distances between items and the corresponding centroid**.\n",
    "\n",
    "1. Explain the dataset and the type of information you wish to gain by applying a clustering method.\n",
    "2. Explain the k-means algorithm and how you will be using it in your analysis (list the steps, the intuition behind the mathematical representation, and address its assumptions).\n",
    "3. Import the necessary libraries, then read the dataset into a data frame and perform initial statistical exploration.\n",
    "4. Clean the data and address unusual phenomena (e.g., outliers); use illustrative diagrams and plots and explain them.\n",
    "5. Formulate two questions that can be answered by performing a clustering analysis using the k-means.\n",
    "6. Use the elbow method to find the optimal number of clusters for your chosen dataset. Justify your chosen (final) value of k.\n",
    "7. Perform k-means analysis. Explain the intuition behind each mathematical step.\n",
    "8. Interpret the results in the context of the questions you asked.\n",
    "9. Discuss how you minimized the variation within the clusters.\n",
    "10. Validate your model. Then, explain the results.\n",
    "11. Include all mathematical formulas used and graphs representing the final outcomes.\n",
    "\n",
    "Prepare a comprehensive technical report as a markdown document or Jupyter notebook, including all code, code comments, all outputs, plots, and analysis. Make sure the project documentation contains a) problem statement, b) algorithm of the solution, c) analysis of the findings, and d) references.\n",
    "\n",
    "## Solution"
   ]
  },
  {
   "cell_type": "code",
   "execution_count": null,
   "metadata": {},
   "outputs": [],
   "source": []
  }
 ],
 "metadata": {
  "language_info": {
   "name": "python"
  },
  "orig_nbformat": 4
 },
 "nbformat": 4,
 "nbformat_minor": 2
}
