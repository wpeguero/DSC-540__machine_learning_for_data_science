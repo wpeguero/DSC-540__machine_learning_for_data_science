{
 "cells": [
  {
   "cell_type": "markdown",
   "metadata": {},
   "source": [
    "# Classification with K-Nearest Neighbors\n",
    "## By Wilson Peguero Rosario\n",
    "\n",
    "Machine learning algorithms help to provide instant predictive results for large amounts of data. One such algorithm, the k-nearest neighbor (kNN) is used for pattern classification, regression models, and is ideal for data mining. Some real-world examples of its use include determining credit card ratings, identifying who's likely to default on a loan, detecting unusual patterns in credit card usage, or predicting the future value of stocks.\n",
    "\n",
    "To perform a classification using the k-nearest neighbors algorithm, complete the following:\n",
    "\n",
    "1. Access the \"UCI Machine Learning Repository,\" located in the topic Resources. Note: There are about 120 datasets that are suitable for use in a classification task. For this part of the exercise, you must choose one of these datasets, provided it includes at least 10 attributes and 10,000 instances.\n",
    "2. You may search for data in other repositories, such as Data.gov, Kaggle or Scikit Learn.\n",
    "3. Discuss the origin of the data and assess whether it was obtained in an ethical manner.\n",
    "\n",
    "For your selected dataset, build a classification model as follows:\n",
    "\n",
    "1. Explain the dataset and the type of information you wish to gain by applying a classification method.\n",
    "2. Explain the k-nearest neighbors algorithm and how you will be using it in your analysis (list the steps, the intuition behind the mathematical representation, and address its assumptions). Assume k = 5 using the Euclidian distance. Explain the value of k.\n",
    "3. Import the necessary libraries, then read the dataset into a data frame and perform initial statistical exploration.\n",
    "4. Clean the data and address unusual phenomena (e.g., normalization, outliers, missing data, encoding); use illustrative diagrams and plots and explain them.\n",
    "5. Formulate two questions that can be answered by applying a classification method using the k-nearest neighbors method.\n",
    "6. Split the data into 80% training and 20% testing sets.\n",
    "7. Train the k-nearest neighbors classifier on the training set using the following parameters: k = 5, metric = 'minkowski', p = 2.\n",
    "8. Make classification predictions.\n",
    "9. Interpret the results in the context of the questions you asked.\n",
    "10. Validate your model using a confusion matrix, accuracy score, ROC-AUC curves, and k-fold cross validation. Then explain the results.\n",
    "11. Include all mathematical formulas used and graphs representing the final outcomes.\n",
    "\n",
    "Prepare a comprehensive technical report as a markdown document or Jupyter notebook, including all code, code comments, all outputs, plots, and analysis. Make sure the project documentation contains a) problem statement, b) algorithm of the solution, c) analysis of the findings, and d) references."
   ]
  },
  {
   "cell_type": "code",
   "execution_count": null,
   "metadata": {},
   "outputs": [],
   "source": [
    "import pandas as pd\n"
   ]
  }
 ],
 "metadata": {
  "language_info": {
   "name": "python"
  },
  "orig_nbformat": 4
 },
 "nbformat": 4,
 "nbformat_minor": 2
}
