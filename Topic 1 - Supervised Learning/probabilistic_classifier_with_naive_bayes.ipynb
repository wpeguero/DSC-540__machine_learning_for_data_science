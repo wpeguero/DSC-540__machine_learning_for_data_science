{
 "cells": [
  {
   "cell_type": "markdown",
   "metadata": {},
   "source": [
    "# Probabilistic Classifier with Naive Bayes\n",
    "\n",
    "## By Wilson Peguero Rosario\n",
    "\n",
    "A Naive Bayes classifier is not a single algorithm but uses multiple machine learning algorithms to classify data. It not only uses probability, but it is simple to implement. Some real-world examples of its use include filtering spam, classifying documents, text analysis, or medical diagnosis.\n",
    "\n",
    "To perform sentiment analysis using a Naive Bayes algorithm, complete the following:\n",
    "\n",
    "1. Access the resources related to sentiment analysis, located in the topic Resources. Note: There are about 50 datasets that are suitable for use in a sentiment analysis task. For this part of the exercise, you must choose one of these datasets, provided it includes at least 10,000 instances.\n",
    "2. Ensure that the datasets are suitable for classification using this method.\n",
    "3. You may search for data in other repositories, such as Data.gov, Kaggle or Scikit Learn.\n",
    "\n",
    "For your selected dataset, build a classification model as follows:\n",
    "\n",
    "1. Explain the dataset and the type of information you wish to gain by applying a classification method.\n",
    "2. Explain the Naive Bayes algorithm and how you will be using it in your analysis (list the steps, the intuition behind the mathematical representation, and address its assumptions).\n",
    "3. Import the necessary libraries, then read the dataset into a data frame and perform initial statistical exploration.\n",
    "4. Clean the data and address unusual phenomena (e.g., normalization, feature scaling, outliers); use illustrative diagrams and plots and explain them.\n",
    "5. Formulate two questions that can be answered by applying a classification method using the Naïve Bayes.\n",
    "6. Choose one of the Naive Bayes types of algorithms: Gaussian Naïve Bayes, Multinomial Naïve Bayes, or Bernoulli Naïve Bayes and explain your reasoning.\n",
    "7. Split the data into dependent and independent variables (or features and labels).\n",
    "8. Vectorize the text into numbers.\n",
    "9. Train the Naive Bayes classifier on the training set.\n",
    "10. Make classification predictions.\n",
    "11. Interpret the results in the context of the questions you asked.\n",
    "12. Validate your model using a confusion matrix, accuracy score, ROC-AUC curves, and k-fold cross validation. Then, explain the results.\n",
    "13. Include all mathematical formulas used and graphs representing the final outcomes.\n",
    "\n",
    "Prepare a comprehensive technical report as a markdown document or Jupyter notebook, including all code, code comments, all outputs, plots, and analysis. Make sure the project documentation contains a) problem statement, b) algorithm of the solution, c) analysis of the findings, and d) deferences."
   ]
  }
 ],
 "metadata": {
  "language_info": {
   "name": "python"
  },
  "orig_nbformat": 4
 },
 "nbformat": 4,
 "nbformat_minor": 2
}
