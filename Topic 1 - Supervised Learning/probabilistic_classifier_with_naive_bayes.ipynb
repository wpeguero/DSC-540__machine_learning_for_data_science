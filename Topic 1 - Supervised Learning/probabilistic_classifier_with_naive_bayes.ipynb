{
 "cells": [
  {
   "cell_type": "markdown",
   "metadata": {},
   "source": [
    "# Probabilistic Classifier with Naive Bayes\n",
    "\n",
    "## By Wilson Peguero Rosario\n",
    "\n",
    "A Naive Bayes classifier is not a single algorithm but uses multiple machine learning algorithms to classify data. It not only uses probability, but it is simple to implement. Some real-world examples of its use include filtering spam, classifying documents, text analysis, or medical diagnosis.\n",
    "\n",
    "To perform sentiment analysis using a Naive Bayes algorithm, complete the following:\n",
    "\n",
    "1. Access the resources related to sentiment analysis, located in the topic Resources. Note: There are about 50 datasets that are suitable for use in a sentiment analysis task. For this part of the exercise, you must choose one of these datasets, provided it includes at least 10,000 instances.\n",
    "2. Ensure that the datasets are suitable for classification using this method.\n",
    "3. You may search for data in other repositories, such as Data.gov, Kaggle or Scikit Learn.\n",
    "\n",
    "For your selected dataset, build a classification model as follows:\n",
    "\n",
    "1. Explain the dataset and the type of information you wish to gain by applying a classification method.\n",
    "2. Explain the Naive Bayes algorithm and how you will be using it in your analysis (list the steps, the intuition behind the mathematical representation, and address its assumptions).\n",
    "3. Import the necessary libraries, then read the dataset into a data frame and perform initial statistical exploration.\n",
    "4. Clean the data and address unusual phenomena (e.g., normalization, feature scaling, outliers); use illustrative diagrams and plots and explain them.\n",
    "5. Formulate two questions that can be answered by applying a classification method using the Naïve Bayes.\n",
    "6. Choose one of the Naive Bayes types of algorithms: Gaussian Naïve Bayes, Multinomial Naïve Bayes, or Bernoulli Naïve Bayes and explain your reasoning.\n",
    "7. Split the data into dependent and independent variables (or features and labels).\n",
    "8. Vectorize the text into numbers.\n",
    "9. Train the Naive Bayes classifier on the training set.\n",
    "10. Make classification predictions.\n",
    "11. Interpret the results in the context of the questions you asked.\n",
    "12. Validate your model using a confusion matrix, accuracy score, ROC-AUC curves, and k-fold cross validation. Then, explain the results.\n",
    "13. Include all mathematical formulas used and graphs representing the final outcomes.\n",
    "\n",
    "Prepare a comprehensive technical report as a markdown document or Jupyter notebook, including all code, code comments, all outputs, plots, and analysis. Make sure the project documentation contains a) problem statement, b) algorithm of the solution, c) analysis of the findings, and d) deferences.\n",
    "\n",
    "## Solution"
   ]
  },
  {
   "cell_type": "markdown",
   "metadata": {},
   "source": [
    "### Problem Statement\n",
    "\n",
    "Although Steam Reviews allows one to determine whether a game is good based on a user-based recommendation system, there is no guarantee that the users themselves are using the system appropriately. By using a data set containing prelabeled comments to determine whether the game review was positive or not will allow one to determine whether the review was positive. The data set utilized is based on Steam Reviews that are prelabeled as either recommended or not recommended. The features in use will be the year in which the comment was posted as well as the user suggestion to classify unlabeled reviews on certain titles. This algorithm will also use other factors related to the game itself (such as the publisher) to increase the accuracy of the SVM algorithm. This data set will allow Steam users to choose see the most popular titles and has the potential to show them which games had the most positive reviews based on the tags attached to the game title (i.e. the free to play game with the most positive reviews)."
   ]
  },
  {
   "cell_type": "code",
   "execution_count": 124,
   "metadata": {},
   "outputs": [
    {
     "data": {
      "text/html": [
       "<div>\n",
       "<style scoped>\n",
       "    .dataframe tbody tr th:only-of-type {\n",
       "        vertical-align: middle;\n",
       "    }\n",
       "\n",
       "    .dataframe tbody tr th {\n",
       "        vertical-align: top;\n",
       "    }\n",
       "\n",
       "    .dataframe thead th {\n",
       "        text-align: right;\n",
       "    }\n",
       "</style>\n",
       "<table border=\"1\" class=\"dataframe\">\n",
       "  <thead>\n",
       "    <tr style=\"text-align: right;\">\n",
       "      <th></th>\n",
       "      <th>review_id</th>\n",
       "      <th>title</th>\n",
       "      <th>year</th>\n",
       "      <th>user_review</th>\n",
       "      <th>user_suggestion</th>\n",
       "      <th>developer</th>\n",
       "      <th>publisher</th>\n",
       "      <th>tags</th>\n",
       "      <th>overview</th>\n",
       "    </tr>\n",
       "  </thead>\n",
       "  <tbody>\n",
       "    <tr>\n",
       "      <th>0</th>\n",
       "      <td>1</td>\n",
       "      <td>Spooky's Jump Scare Mansion</td>\n",
       "      <td>2016.0</td>\n",
       "      <td>I'm scared and hearing creepy voices.  So I'll...</td>\n",
       "      <td>1</td>\n",
       "      <td>Lag Studios</td>\n",
       "      <td>Lag Studios</td>\n",
       "      <td>['Horror', 'Free to Play', 'Cute', 'First-Pers...</td>\n",
       "      <td>Can you survive 1000 rooms of cute terror? Or ...</td>\n",
       "    </tr>\n",
       "    <tr>\n",
       "      <th>1</th>\n",
       "      <td>2</td>\n",
       "      <td>Spooky's Jump Scare Mansion</td>\n",
       "      <td>2016.0</td>\n",
       "      <td>Best game, more better than Sam Pepper's YouTu...</td>\n",
       "      <td>1</td>\n",
       "      <td>Lag Studios</td>\n",
       "      <td>Lag Studios</td>\n",
       "      <td>['Horror', 'Free to Play', 'Cute', 'First-Pers...</td>\n",
       "      <td>Can you survive 1000 rooms of cute terror? Or ...</td>\n",
       "    </tr>\n",
       "    <tr>\n",
       "      <th>2</th>\n",
       "      <td>3</td>\n",
       "      <td>Spooky's Jump Scare Mansion</td>\n",
       "      <td>2016.0</td>\n",
       "      <td>A littly iffy on the controls, but once you kn...</td>\n",
       "      <td>1</td>\n",
       "      <td>Lag Studios</td>\n",
       "      <td>Lag Studios</td>\n",
       "      <td>['Horror', 'Free to Play', 'Cute', 'First-Pers...</td>\n",
       "      <td>Can you survive 1000 rooms of cute terror? Or ...</td>\n",
       "    </tr>\n",
       "    <tr>\n",
       "      <th>3</th>\n",
       "      <td>4</td>\n",
       "      <td>Spooky's Jump Scare Mansion</td>\n",
       "      <td>2015.0</td>\n",
       "      <td>Great game, fun and colorful and all that.A si...</td>\n",
       "      <td>1</td>\n",
       "      <td>Lag Studios</td>\n",
       "      <td>Lag Studios</td>\n",
       "      <td>['Horror', 'Free to Play', 'Cute', 'First-Pers...</td>\n",
       "      <td>Can you survive 1000 rooms of cute terror? Or ...</td>\n",
       "    </tr>\n",
       "    <tr>\n",
       "      <th>4</th>\n",
       "      <td>5</td>\n",
       "      <td>Spooky's Jump Scare Mansion</td>\n",
       "      <td>2015.0</td>\n",
       "      <td>Not many games have the cute tag right next to...</td>\n",
       "      <td>1</td>\n",
       "      <td>Lag Studios</td>\n",
       "      <td>Lag Studios</td>\n",
       "      <td>['Horror', 'Free to Play', 'Cute', 'First-Pers...</td>\n",
       "      <td>Can you survive 1000 rooms of cute terror? Or ...</td>\n",
       "    </tr>\n",
       "    <tr>\n",
       "      <th>5</th>\n",
       "      <td>6</td>\n",
       "      <td>Spooky's Jump Scare Mansion</td>\n",
       "      <td>2015.0</td>\n",
       "      <td>Early Access ReviewIt's pretty cute at first, ...</td>\n",
       "      <td>1</td>\n",
       "      <td>Lag Studios</td>\n",
       "      <td>Lag Studios</td>\n",
       "      <td>['Horror', 'Free to Play', 'Cute', 'First-Pers...</td>\n",
       "      <td>Can you survive 1000 rooms of cute terror? Or ...</td>\n",
       "    </tr>\n",
       "    <tr>\n",
       "      <th>6</th>\n",
       "      <td>7</td>\n",
       "      <td>Spooky's Jump Scare Mansion</td>\n",
       "      <td>2017.0</td>\n",
       "      <td>Great game. it's a cute little horror game tha...</td>\n",
       "      <td>1</td>\n",
       "      <td>Lag Studios</td>\n",
       "      <td>Lag Studios</td>\n",
       "      <td>['Horror', 'Free to Play', 'Cute', 'First-Pers...</td>\n",
       "      <td>Can you survive 1000 rooms of cute terror? Or ...</td>\n",
       "    </tr>\n",
       "    <tr>\n",
       "      <th>7</th>\n",
       "      <td>8</td>\n",
       "      <td>Spooky's Jump Scare Mansion</td>\n",
       "      <td>2015.0</td>\n",
       "      <td>Spooky's Jump Scare Mansion is a Free Retro ma...</td>\n",
       "      <td>1</td>\n",
       "      <td>Lag Studios</td>\n",
       "      <td>Lag Studios</td>\n",
       "      <td>['Horror', 'Free to Play', 'Cute', 'First-Pers...</td>\n",
       "      <td>Can you survive 1000 rooms of cute terror? Or ...</td>\n",
       "    </tr>\n",
       "    <tr>\n",
       "      <th>8</th>\n",
       "      <td>9</td>\n",
       "      <td>Spooky's Jump Scare Mansion</td>\n",
       "      <td>2015.0</td>\n",
       "      <td>Somewhere between light hearted, happy parody ...</td>\n",
       "      <td>0</td>\n",
       "      <td>Lag Studios</td>\n",
       "      <td>Lag Studios</td>\n",
       "      <td>['Horror', 'Free to Play', 'Cute', 'First-Pers...</td>\n",
       "      <td>Can you survive 1000 rooms of cute terror? Or ...</td>\n",
       "    </tr>\n",
       "    <tr>\n",
       "      <th>9</th>\n",
       "      <td>10</td>\n",
       "      <td>Spooky's Jump Scare Mansion</td>\n",
       "      <td>2015.0</td>\n",
       "      <td>This game with its cute little out of the wall...</td>\n",
       "      <td>1</td>\n",
       "      <td>Lag Studios</td>\n",
       "      <td>Lag Studios</td>\n",
       "      <td>['Horror', 'Free to Play', 'Cute', 'First-Pers...</td>\n",
       "      <td>Can you survive 1000 rooms of cute terror? Or ...</td>\n",
       "    </tr>\n",
       "  </tbody>\n",
       "</table>\n",
       "</div>"
      ],
      "text/plain": [
       "   review_id                        title    year  \\\n",
       "0          1  Spooky's Jump Scare Mansion  2016.0   \n",
       "1          2  Spooky's Jump Scare Mansion  2016.0   \n",
       "2          3  Spooky's Jump Scare Mansion  2016.0   \n",
       "3          4  Spooky's Jump Scare Mansion  2015.0   \n",
       "4          5  Spooky's Jump Scare Mansion  2015.0   \n",
       "5          6  Spooky's Jump Scare Mansion  2015.0   \n",
       "6          7  Spooky's Jump Scare Mansion  2017.0   \n",
       "7          8  Spooky's Jump Scare Mansion  2015.0   \n",
       "8          9  Spooky's Jump Scare Mansion  2015.0   \n",
       "9         10  Spooky's Jump Scare Mansion  2015.0   \n",
       "\n",
       "                                         user_review  user_suggestion  \\\n",
       "0  I'm scared and hearing creepy voices.  So I'll...                1   \n",
       "1  Best game, more better than Sam Pepper's YouTu...                1   \n",
       "2  A littly iffy on the controls, but once you kn...                1   \n",
       "3  Great game, fun and colorful and all that.A si...                1   \n",
       "4  Not many games have the cute tag right next to...                1   \n",
       "5  Early Access ReviewIt's pretty cute at first, ...                1   \n",
       "6  Great game. it's a cute little horror game tha...                1   \n",
       "7  Spooky's Jump Scare Mansion is a Free Retro ma...                1   \n",
       "8  Somewhere between light hearted, happy parody ...                0   \n",
       "9  This game with its cute little out of the wall...                1   \n",
       "\n",
       "      developer     publisher  \\\n",
       "0  Lag Studios   Lag Studios    \n",
       "1  Lag Studios   Lag Studios    \n",
       "2  Lag Studios   Lag Studios    \n",
       "3  Lag Studios   Lag Studios    \n",
       "4  Lag Studios   Lag Studios    \n",
       "5  Lag Studios   Lag Studios    \n",
       "6  Lag Studios   Lag Studios    \n",
       "7  Lag Studios   Lag Studios    \n",
       "8  Lag Studios   Lag Studios    \n",
       "9  Lag Studios   Lag Studios    \n",
       "\n",
       "                                                tags  \\\n",
       "0  ['Horror', 'Free to Play', 'Cute', 'First-Pers...   \n",
       "1  ['Horror', 'Free to Play', 'Cute', 'First-Pers...   \n",
       "2  ['Horror', 'Free to Play', 'Cute', 'First-Pers...   \n",
       "3  ['Horror', 'Free to Play', 'Cute', 'First-Pers...   \n",
       "4  ['Horror', 'Free to Play', 'Cute', 'First-Pers...   \n",
       "5  ['Horror', 'Free to Play', 'Cute', 'First-Pers...   \n",
       "6  ['Horror', 'Free to Play', 'Cute', 'First-Pers...   \n",
       "7  ['Horror', 'Free to Play', 'Cute', 'First-Pers...   \n",
       "8  ['Horror', 'Free to Play', 'Cute', 'First-Pers...   \n",
       "9  ['Horror', 'Free to Play', 'Cute', 'First-Pers...   \n",
       "\n",
       "                                            overview  \n",
       "0  Can you survive 1000 rooms of cute terror? Or ...  \n",
       "1  Can you survive 1000 rooms of cute terror? Or ...  \n",
       "2  Can you survive 1000 rooms of cute terror? Or ...  \n",
       "3  Can you survive 1000 rooms of cute terror? Or ...  \n",
       "4  Can you survive 1000 rooms of cute terror? Or ...  \n",
       "5  Can you survive 1000 rooms of cute terror? Or ...  \n",
       "6  Can you survive 1000 rooms of cute terror? Or ...  \n",
       "7  Can you survive 1000 rooms of cute terror? Or ...  \n",
       "8  Can you survive 1000 rooms of cute terror? Or ...  \n",
       "9  Can you survive 1000 rooms of cute terror? Or ...  "
      ]
     },
     "execution_count": 124,
     "metadata": {},
     "output_type": "execute_result"
    }
   ],
   "source": [
    "from sklearn.metrics import accuracy_score, precision_score, recall_score, roc_auc_score, roc_curve\n",
    "from sklearn.feature_extraction.text import TfidfVectorizer\n",
    "from sklearn.naive_bayes import MultinomialNB, BernoulliNB\n",
    "from sklearn.model_selection import train_test_split, cross_val_score, KFold\n",
    "from nltk.tokenize import word_tokenize\n",
    "from nltk.stem import SnowballStemmer\n",
    "from nltk.corpus import stopwords\n",
    "import matplotlib.pyplot as plt\n",
    "import pandas as pd\n",
    "import numpy as np\n",
    "import nltk\n",
    "\n",
    "df__texts = pd.read_csv('steam_reviews/train.csv')\n",
    "df__game_info = pd.read_csv('steam_reviews/game_overview.csv')\n",
    "\n",
    "df__steam_info = pd.merge(df__texts, df__game_info, on=\"title\")\n",
    "\n",
    "df__steam_info.head(10)"
   ]
  },
  {
   "cell_type": "markdown",
   "metadata": {},
   "source": [
    "Now that we have the data set fully assembled one should be able to use some Exploratory analysis to see what features may supplement the explanatory variable that is the comments.\n",
    "\n",
    "### Exploratory Analysis\n",
    "\n",
    "Before we begin the actual exploratory analysis, one must first convert the title, publisher as well as the developer of the game into it's categorical code value to better represent the features"
   ]
  },
  {
   "cell_type": "code",
   "execution_count": 125,
   "metadata": {},
   "outputs": [
    {
     "name": "stdout",
     "output_type": "stream",
     "text": [
      "the feature review_id is of type int64\n",
      "the feature title is of type category\n",
      "the feature year is of type float64\n",
      "the feature user_review is of type object\n",
      "the feature user_suggestion is of type int64\n",
      "the feature developer is of type category\n",
      "the feature publisher is of type category\n",
      "the feature tags is of type object\n",
      "the feature overview is of type object\n"
     ]
    }
   ],
   "source": [
    "df__steam_info['title'] = pd.Categorical(df__steam_info['title'])\n",
    "df__steam_info['developer'] = pd.Categorical(df__steam_info['developer'])\n",
    "df__steam_info['publisher'] = pd.Categorical(df__steam_info['title'])\n",
    "\n",
    "dict__cat = dict()\n",
    "for (col, data) in df__steam_info.iteritems():\n",
    "    ctype = df__steam_info[str(col)].dtype\n",
    "    print(f'the feature {col} is of type {ctype}')\n",
    "    if str(ctype) == 'category':\n",
    "        dict__cat[str(col)] = dict(enumerate(df__steam_info[str(col)].cat.categories))\n",
    "        df__steam_info[str(col)] = df__steam_info[str(col)].cat.codes\n"
   ]
  },
  {
   "cell_type": "markdown",
   "metadata": {},
   "source": [
    "Now that we have replaced the explanatory variables with their respective categorical codes, now we can proceed to change the overview feature with the length of the overview itself rather than make the feature a categorical. After that we can create the "
   ]
  },
  {
   "cell_type": "code",
   "execution_count": 126,
   "metadata": {},
   "outputs": [
    {
     "data": {
      "text/html": [
       "<style type=\"text/css\">\n",
       "#T_f5201_row0_col0, #T_f5201_row1_col1, #T_f5201_row1_col5, #T_f5201_row2_col2, #T_f5201_row3_col3, #T_f5201_row4_col4, #T_f5201_row5_col1, #T_f5201_row5_col5, #T_f5201_row6_col6 {\n",
       "  background-color: #b40426;\n",
       "  color: #f1f1f1;\n",
       "}\n",
       "#T_f5201_row0_col1, #T_f5201_row0_col5, #T_f5201_row1_col0, #T_f5201_row5_col0 {\n",
       "  background-color: #a6c4fe;\n",
       "  color: #000000;\n",
       "}\n",
       "#T_f5201_row0_col2, #T_f5201_row2_col0 {\n",
       "  background-color: #eed0c0;\n",
       "  color: #000000;\n",
       "}\n",
       "#T_f5201_row0_col3, #T_f5201_row1_col2, #T_f5201_row2_col1, #T_f5201_row2_col5, #T_f5201_row3_col0, #T_f5201_row5_col2 {\n",
       "  background-color: #c6d6f1;\n",
       "  color: #000000;\n",
       "}\n",
       "#T_f5201_row0_col4, #T_f5201_row4_col0 {\n",
       "  background-color: #b3cdfb;\n",
       "  color: #000000;\n",
       "}\n",
       "#T_f5201_row0_col6, #T_f5201_row6_col0 {\n",
       "  background-color: #edd2c3;\n",
       "  color: #000000;\n",
       "}\n",
       "#T_f5201_row1_col3, #T_f5201_row3_col1, #T_f5201_row3_col5, #T_f5201_row5_col3 {\n",
       "  background-color: #d4dbe6;\n",
       "  color: #000000;\n",
       "}\n",
       "#T_f5201_row1_col4, #T_f5201_row4_col1, #T_f5201_row4_col5, #T_f5201_row5_col4 {\n",
       "  background-color: #f7b497;\n",
       "  color: #000000;\n",
       "}\n",
       "#T_f5201_row1_col6, #T_f5201_row5_col6, #T_f5201_row6_col1, #T_f5201_row6_col5 {\n",
       "  background-color: #d9dce1;\n",
       "  color: #000000;\n",
       "}\n",
       "#T_f5201_row2_col3, #T_f5201_row3_col2 {\n",
       "  background-color: #ccd9ed;\n",
       "  color: #000000;\n",
       "}\n",
       "#T_f5201_row2_col4, #T_f5201_row4_col2 {\n",
       "  background-color: #cbd8ee;\n",
       "  color: #000000;\n",
       "}\n",
       "#T_f5201_row2_col6, #T_f5201_row6_col2 {\n",
       "  background-color: #cdd9ec;\n",
       "  color: #000000;\n",
       "}\n",
       "#T_f5201_row3_col4, #T_f5201_row4_col3 {\n",
       "  background-color: #d5dbe5;\n",
       "  color: #000000;\n",
       "}\n",
       "#T_f5201_row3_col6, #T_f5201_row6_col3 {\n",
       "  background-color: #e4d9d2;\n",
       "  color: #000000;\n",
       "}\n",
       "#T_f5201_row4_col6, #T_f5201_row6_col4 {\n",
       "  background-color: #d1dae9;\n",
       "  color: #000000;\n",
       "}\n",
       "</style>\n",
       "<table id=\"T_f5201_\">\n",
       "  <thead>\n",
       "    <tr>\n",
       "      <th class=\"blank level0\" >&nbsp;</th>\n",
       "      <th class=\"col_heading level0 col0\" >review_id</th>\n",
       "      <th class=\"col_heading level0 col1\" >title</th>\n",
       "      <th class=\"col_heading level0 col2\" >year</th>\n",
       "      <th class=\"col_heading level0 col3\" >user_suggestion</th>\n",
       "      <th class=\"col_heading level0 col4\" >developer</th>\n",
       "      <th class=\"col_heading level0 col5\" >publisher</th>\n",
       "      <th class=\"col_heading level0 col6\" >overview_length</th>\n",
       "    </tr>\n",
       "  </thead>\n",
       "  <tbody>\n",
       "    <tr>\n",
       "      <th id=\"T_f5201_level0_row0\" class=\"row_heading level0 row0\" >review_id</th>\n",
       "      <td id=\"T_f5201_row0_col0\" class=\"data row0 col0\" >1.00</td>\n",
       "      <td id=\"T_f5201_row0_col1\" class=\"data row0 col1\" >-0.36</td>\n",
       "      <td id=\"T_f5201_row0_col2\" class=\"data row0 col2\" >0.15</td>\n",
       "      <td id=\"T_f5201_row0_col3\" class=\"data row0 col3\" >-0.16</td>\n",
       "      <td id=\"T_f5201_row0_col4\" class=\"data row0 col4\" >-0.28</td>\n",
       "      <td id=\"T_f5201_row0_col5\" class=\"data row0 col5\" >-0.36</td>\n",
       "      <td id=\"T_f5201_row0_col6\" class=\"data row0 col6\" >0.14</td>\n",
       "    </tr>\n",
       "    <tr>\n",
       "      <th id=\"T_f5201_level0_row1\" class=\"row_heading level0 row1\" >title</th>\n",
       "      <td id=\"T_f5201_row1_col0\" class=\"data row1 col0\" >-0.36</td>\n",
       "      <td id=\"T_f5201_row1_col1\" class=\"data row1 col1\" >1.00</td>\n",
       "      <td id=\"T_f5201_row1_col2\" class=\"data row1 col2\" >-0.16</td>\n",
       "      <td id=\"T_f5201_row1_col3\" class=\"data row1 col3\" >-0.07</td>\n",
       "      <td id=\"T_f5201_row1_col4\" class=\"data row1 col4\" >0.36</td>\n",
       "      <td id=\"T_f5201_row1_col5\" class=\"data row1 col5\" >1.00</td>\n",
       "      <td id=\"T_f5201_row1_col6\" class=\"data row1 col6\" >-0.03</td>\n",
       "    </tr>\n",
       "    <tr>\n",
       "      <th id=\"T_f5201_level0_row2\" class=\"row_heading level0 row2\" >year</th>\n",
       "      <td id=\"T_f5201_row2_col0\" class=\"data row2 col0\" >0.15</td>\n",
       "      <td id=\"T_f5201_row2_col1\" class=\"data row2 col1\" >-0.16</td>\n",
       "      <td id=\"T_f5201_row2_col2\" class=\"data row2 col2\" >1.00</td>\n",
       "      <td id=\"T_f5201_row2_col3\" class=\"data row2 col3\" >-0.12</td>\n",
       "      <td id=\"T_f5201_row2_col4\" class=\"data row2 col4\" >-0.13</td>\n",
       "      <td id=\"T_f5201_row2_col5\" class=\"data row2 col5\" >-0.16</td>\n",
       "      <td id=\"T_f5201_row2_col6\" class=\"data row2 col6\" >-0.11</td>\n",
       "    </tr>\n",
       "    <tr>\n",
       "      <th id=\"T_f5201_level0_row3\" class=\"row_heading level0 row3\" >user_suggestion</th>\n",
       "      <td id=\"T_f5201_row3_col0\" class=\"data row3 col0\" >-0.16</td>\n",
       "      <td id=\"T_f5201_row3_col1\" class=\"data row3 col1\" >-0.07</td>\n",
       "      <td id=\"T_f5201_row3_col2\" class=\"data row3 col2\" >-0.12</td>\n",
       "      <td id=\"T_f5201_row3_col3\" class=\"data row3 col3\" >1.00</td>\n",
       "      <td id=\"T_f5201_row3_col4\" class=\"data row3 col4\" >-0.06</td>\n",
       "      <td id=\"T_f5201_row3_col5\" class=\"data row3 col5\" >-0.07</td>\n",
       "      <td id=\"T_f5201_row3_col6\" class=\"data row3 col6\" >0.06</td>\n",
       "    </tr>\n",
       "    <tr>\n",
       "      <th id=\"T_f5201_level0_row4\" class=\"row_heading level0 row4\" >developer</th>\n",
       "      <td id=\"T_f5201_row4_col0\" class=\"data row4 col0\" >-0.28</td>\n",
       "      <td id=\"T_f5201_row4_col1\" class=\"data row4 col1\" >0.36</td>\n",
       "      <td id=\"T_f5201_row4_col2\" class=\"data row4 col2\" >-0.13</td>\n",
       "      <td id=\"T_f5201_row4_col3\" class=\"data row4 col3\" >-0.06</td>\n",
       "      <td id=\"T_f5201_row4_col4\" class=\"data row4 col4\" >1.00</td>\n",
       "      <td id=\"T_f5201_row4_col5\" class=\"data row4 col5\" >0.36</td>\n",
       "      <td id=\"T_f5201_row4_col6\" class=\"data row4 col6\" >-0.09</td>\n",
       "    </tr>\n",
       "    <tr>\n",
       "      <th id=\"T_f5201_level0_row5\" class=\"row_heading level0 row5\" >publisher</th>\n",
       "      <td id=\"T_f5201_row5_col0\" class=\"data row5 col0\" >-0.36</td>\n",
       "      <td id=\"T_f5201_row5_col1\" class=\"data row5 col1\" >1.00</td>\n",
       "      <td id=\"T_f5201_row5_col2\" class=\"data row5 col2\" >-0.16</td>\n",
       "      <td id=\"T_f5201_row5_col3\" class=\"data row5 col3\" >-0.07</td>\n",
       "      <td id=\"T_f5201_row5_col4\" class=\"data row5 col4\" >0.36</td>\n",
       "      <td id=\"T_f5201_row5_col5\" class=\"data row5 col5\" >1.00</td>\n",
       "      <td id=\"T_f5201_row5_col6\" class=\"data row5 col6\" >-0.03</td>\n",
       "    </tr>\n",
       "    <tr>\n",
       "      <th id=\"T_f5201_level0_row6\" class=\"row_heading level0 row6\" >overview_length</th>\n",
       "      <td id=\"T_f5201_row6_col0\" class=\"data row6 col0\" >0.14</td>\n",
       "      <td id=\"T_f5201_row6_col1\" class=\"data row6 col1\" >-0.03</td>\n",
       "      <td id=\"T_f5201_row6_col2\" class=\"data row6 col2\" >-0.11</td>\n",
       "      <td id=\"T_f5201_row6_col3\" class=\"data row6 col3\" >0.06</td>\n",
       "      <td id=\"T_f5201_row6_col4\" class=\"data row6 col4\" >-0.09</td>\n",
       "      <td id=\"T_f5201_row6_col5\" class=\"data row6 col5\" >-0.03</td>\n",
       "      <td id=\"T_f5201_row6_col6\" class=\"data row6 col6\" >1.00</td>\n",
       "    </tr>\n",
       "  </tbody>\n",
       "</table>\n"
      ],
      "text/plain": [
       "<pandas.io.formats.style.Styler at 0x1eaaa409ee0>"
      ]
     },
     "execution_count": 126,
     "metadata": {},
     "output_type": "execute_result"
    }
   ],
   "source": [
    "df__steam_info['overview_length'] = df__steam_info['overview'].apply(\n",
    "    lambda value:len(value)\n",
    "    )\n",
    "\n",
    "corr_matrix = df__steam_info.corr()\n",
    "corr_matrix\\\n",
    "    .style\\\n",
    "        .background_gradient(cmap='coolwarm', axis=None, vmin=-1, vmax=1)\\\n",
    "            .format(precision=2)"
   ]
  },
  {
   "cell_type": "markdown",
   "metadata": {},
   "source": [
    "From what one can tell, it seems that there is no correlation at all between the features *title*, *developer*, and *publisher*. This indicates that the data set itself is not biased as it seems that there are not enough evidence to show that the data set has been influenced by any preference of a game developer or publisher.\n",
    "\n",
    "In the end, using any other features may be detrimental to the model. Only the *user_suggestion* and the *user_review* features will be used for this occassion."
   ]
  },
  {
   "cell_type": "code",
   "execution_count": 127,
   "metadata": {},
   "outputs": [],
   "source": [
    "df = df__steam_info[\n",
    "    ['review_id', 'user_suggestion', 'user_review']\n",
    "    ]"
   ]
  },
  {
   "cell_type": "markdown",
   "metadata": {},
   "source": [
    "### Data Processing\n",
    "\n",
    "Now that we have determined what features to use for the sentimental analysis. Let's work on some feature engineering to maximize the use of the user-review feature for sentimental analysis.\n",
    "\n",
    "*We first begin by removing all special characters, change all letters to lowercase, remove stopwords (such as the, is, in, for, where, etc.), and finally remove words with the same stems (i.e. dislike and like have the same stem which is like)*.\n",
    "\n",
    "We do the above by creating functions and using the apply function to the feature in pandas."
   ]
  },
  {
   "cell_type": "code",
   "execution_count": 128,
   "metadata": {},
   "outputs": [
    {
     "name": "stderr",
     "output_type": "stream",
     "text": [
      "C:\\Users\\wpegu\\AppData\\Local\\Temp/ipykernel_19804/932945142.py:8: SettingWithCopyWarning: \n",
      "A value is trying to be set on a copy of a slice from a DataFrame.\n",
      "Try using .loc[row_indexer,col_indexer] = value instead\n",
      "\n",
      "See the caveats in the documentation: https://pandas.pydata.org/pandas-docs/stable/user_guide/indexing.html#returning-a-view-versus-a-copy\n",
      "  df['user_review'] = df['user_review']\\\n"
     ]
    },
    {
     "data": {
      "text/plain": [
       "'Im scared and hearing creepy voices  So Ill pause for a moment and write a review while I wait for my heart beat to return to atleast somewhat calmer times  This game is adorable and creepy like my happy tree friends but with the graphics sceme of my childhood but more bubble and clean  Hello 1990sWhat charactes there are that isnot trying to kill me were likable and a bit odd  I did do a few noob things though such asOh look a class room full of ghosts from dead children lets shine my flashlight on them and stand there staring at themOr hmm creepy music Ill turn around and see if I can see whats chasing meNever before in a game have I been this afraid of finding a locked door'"
      ]
     },
     "execution_count": 128,
     "metadata": {},
     "output_type": "execute_result"
    }
   ],
   "source": [
    "def remove_special(text:str) -> str:\n",
    "    rem = ''\n",
    "    for i in text:\n",
    "        if i.isalnum() == False and i != \" \":\n",
    "            text = text.replace(i, '')\n",
    "    return text\n",
    "\n",
    "df['user_review'] = df['user_review']\\\n",
    "    .apply(remove_special)\n",
    "\n",
    "df.loc[0, 'user_review']"
   ]
  },
  {
   "cell_type": "markdown",
   "metadata": {},
   "source": [
    "Now that the special characters have been removed, let's change all of the letters to lowercase."
   ]
  },
  {
   "cell_type": "code",
   "execution_count": 129,
   "metadata": {},
   "outputs": [
    {
     "name": "stderr",
     "output_type": "stream",
     "text": [
      "C:\\Users\\wpegu\\AppData\\Local\\Temp/ipykernel_19804/2888780994.py:1: SettingWithCopyWarning: \n",
      "A value is trying to be set on a copy of a slice from a DataFrame.\n",
      "Try using .loc[row_indexer,col_indexer] = value instead\n",
      "\n",
      "See the caveats in the documentation: https://pandas.pydata.org/pandas-docs/stable/user_guide/indexing.html#returning-a-view-versus-a-copy\n",
      "  df['user_review'] = df['user_review']\\\n"
     ]
    },
    {
     "data": {
      "text/plain": [
       "'im scared and hearing creepy voices  so ill pause for a moment and write a review while i wait for my heart beat to return to atleast somewhat calmer times  this game is adorable and creepy like my happy tree friends but with the graphics sceme of my childhood but more bubble and clean  hello 1990swhat charactes there are that isnot trying to kill me were likable and a bit odd  i did do a few noob things though such asoh look a class room full of ghosts from dead children lets shine my flashlight on them and stand there staring at themor hmm creepy music ill turn around and see if i can see whats chasing menever before in a game have i been this afraid of finding a locked door'"
      ]
     },
     "execution_count": 129,
     "metadata": {},
     "output_type": "execute_result"
    }
   ],
   "source": [
    "df['user_review'] = df['user_review']\\\n",
    "    .apply(lambda text: text.lower())\n",
    "df.loc[0, 'user_review']"
   ]
  },
  {
   "cell_type": "markdown",
   "metadata": {},
   "source": [
    "As shown above, further improvement was done upon the data set. Now all that is needed is to remove any stopwords within the text of the entire data set."
   ]
  },
  {
   "cell_type": "code",
   "execution_count": 130,
   "metadata": {},
   "outputs": [
    {
     "name": "stderr",
     "output_type": "stream",
     "text": [
      "[nltk_data] Downloading package stopwords to\n",
      "[nltk_data]     C:\\Users\\wpegu\\AppData\\Roaming\\nltk_data...\n",
      "[nltk_data]   Package stopwords is already up-to-date!\n",
      "[nltk_data] Downloading package punkt to\n",
      "[nltk_data]     C:\\Users\\wpegu\\AppData\\Roaming\\nltk_data...\n",
      "[nltk_data]   Package punkt is already up-to-date!\n",
      "C:\\Users\\wpegu\\AppData\\Local\\Temp/ipykernel_19804/934998833.py:8: SettingWithCopyWarning: \n",
      "A value is trying to be set on a copy of a slice from a DataFrame.\n",
      "Try using .loc[row_indexer,col_indexer] = value instead\n",
      "\n",
      "See the caveats in the documentation: https://pandas.pydata.org/pandas-docs/stable/user_guide/indexing.html#returning-a-view-versus-a-copy\n",
      "  df['user_review'] = df['user_review'].apply(remove_stopwords)\n"
     ]
    },
    {
     "data": {
      "text/plain": [
       "['im',\n",
       " 'scared',\n",
       " 'hearing',\n",
       " 'creepy',\n",
       " 'voices',\n",
       " 'ill',\n",
       " 'pause',\n",
       " 'moment',\n",
       " 'write',\n",
       " 'review',\n",
       " 'wait',\n",
       " 'heart',\n",
       " 'beat',\n",
       " 'return',\n",
       " 'atleast',\n",
       " 'somewhat',\n",
       " 'calmer',\n",
       " 'times',\n",
       " 'game',\n",
       " 'adorable',\n",
       " 'creepy',\n",
       " 'like',\n",
       " 'happy',\n",
       " 'tree',\n",
       " 'friends',\n",
       " 'graphics',\n",
       " 'sceme',\n",
       " 'childhood',\n",
       " 'bubble',\n",
       " 'clean',\n",
       " 'hello',\n",
       " '1990swhat',\n",
       " 'charactes',\n",
       " 'isnot',\n",
       " 'trying',\n",
       " 'kill',\n",
       " 'likable',\n",
       " 'bit',\n",
       " 'odd',\n",
       " 'noob',\n",
       " 'things',\n",
       " 'though',\n",
       " 'asoh',\n",
       " 'look',\n",
       " 'class',\n",
       " 'room',\n",
       " 'full',\n",
       " 'ghosts',\n",
       " 'dead',\n",
       " 'children',\n",
       " 'lets',\n",
       " 'shine',\n",
       " 'flashlight',\n",
       " 'stand',\n",
       " 'staring',\n",
       " 'themor',\n",
       " 'hmm',\n",
       " 'creepy',\n",
       " 'music',\n",
       " 'ill',\n",
       " 'turn',\n",
       " 'around',\n",
       " 'see',\n",
       " 'see',\n",
       " 'whats',\n",
       " 'chasing',\n",
       " 'menever',\n",
       " 'game',\n",
       " 'afraid',\n",
       " 'finding',\n",
       " 'locked',\n",
       " 'door']"
      ]
     },
     "execution_count": 130,
     "metadata": {},
     "output_type": "execute_result"
    }
   ],
   "source": [
    "nltk.download('stopwords')\n",
    "nltk.download('punkt')\n",
    "def remove_stopwords(text:str) -> list:\n",
    "    stop_words = set(stopwords.words('english'))\n",
    "    words = word_tokenize(text)\n",
    "    return [w for w in words if w not in stop_words]\n",
    "\n",
    "df['user_review'] = df['user_review'].apply(remove_stopwords)\n",
    "df.loc[0, 'user_review']"
   ]
  },
  {
   "cell_type": "markdown",
   "metadata": {},
   "source": [
    "Finally, let us remove words with the same stem and leave the unique stems through the use of the nltk SnowballStemmer algorithm."
   ]
  },
  {
   "cell_type": "code",
   "execution_count": 131,
   "metadata": {},
   "outputs": [
    {
     "name": "stderr",
     "output_type": "stream",
     "text": [
      "C:\\Users\\wpegu\\AppData\\Local\\Temp/ipykernel_19804/1523410856.py:5: SettingWithCopyWarning: \n",
      "A value is trying to be set on a copy of a slice from a DataFrame.\n",
      "Try using .loc[row_indexer,col_indexer] = value instead\n",
      "\n",
      "See the caveats in the documentation: https://pandas.pydata.org/pandas-docs/stable/user_guide/indexing.html#returning-a-view-versus-a-copy\n",
      "  df['user_review'] = df['user_review'].apply(extract_stem)\n"
     ]
    },
    {
     "data": {
      "text/plain": [
       "'im scare hear creepi voic ill paus moment write review wait heart beat return atleast somewhat calmer time game ador creepi like happi tree friend graphic sceme childhood bubbl clean hello 1990swhat charact isnot tri kill likabl bit odd noob thing though asoh look class room full ghost dead children let shine flashlight stand stare themor hmm creepi music ill turn around see see what chase menev game afraid find lock door'"
      ]
     },
     "execution_count": 131,
     "metadata": {},
     "output_type": "execute_result"
    }
   ],
   "source": [
    "def extract_stem(text:list) -> str:\n",
    "    ss = SnowballStemmer('english')\n",
    "    return \" \".join([ss.stem(w) for w in text])\n",
    "\n",
    "df['user_review'] = df['user_review'].apply(extract_stem)\n",
    "\n",
    "df.loc[0, 'user_review']"
   ]
  },
  {
   "cell_type": "markdown",
   "metadata": {},
   "source": [
    "Now that we have finished our data processing, it is time to create the Model.\n",
    "\n",
    "### Data Modeling\n",
    "\n",
    "To create this model, we must first determine how one is going to vectorize the data (assign unique Ids based on length of the individual words and general location of the word). There are two ways of vecttorizing the *user_review* feature, one way is to simply count the number of times a word appears or to consider the overall documents by measuring how frequently certain words appears between documents as well. As the reviews may have similar words within them, the latter algorithm will be used."
   ]
  },
  {
   "cell_type": "code",
   "execution_count": 132,
   "metadata": {},
   "outputs": [],
   "source": [
    "# splitting the data into it's respective roles\n",
    "X = df['user_review']\n",
    "y = df['user_suggestion']\n",
    "\n",
    "tfidf = TfidfVectorizer(min_df = 2, max_df = 0.5, ngram_range = (1,2))\n",
    "text_count_matrix = tfidf.fit_transform(X)\n",
    "x_train, x_test, y_train, y_test = train_test_split(\n",
    "    text_count_matrix,\n",
    "    y,\n",
    "    test_size = 0.30,\n",
    "    random_state=2\n",
    "    )"
   ]
  },
  {
   "cell_type": "markdown",
   "metadata": {},
   "source": [
    "Now that the data is organized and properly split into the correct proportions, let us create the model and train the data using the Multinomial Naive Bayes as it takes into account the frequency of certain features which we have engineered through the Vectorizer. Bernoulli Naive Bayes may be another alternative, but as it does not take into account the frequency of the features and counts only uniquely present values the same as absent, this may be detrimental."
   ]
  },
  {
   "cell_type": "code",
   "execution_count": 133,
   "metadata": {},
   "outputs": [
    {
     "name": "stdout",
     "output_type": "stream",
     "text": [
      "Predictions     0     1\n",
      "Actual                 \n",
      "0            1134  1140\n",
      "1              65  2910\n"
     ]
    }
   ],
   "source": [
    "mnb = MultinomialNB(alpha = 1.0, fit_prior = True)\n",
    "mnb.fit(x_train, y_train)\n",
    "y_pred = mnb.predict(x_test)\n",
    "\n",
    "ct01 = pd.crosstab(y_test, y_pred, rownames=['Actual'], colnames=['Predictions'])\n",
    "print(ct01)"
   ]
  },
  {
   "cell_type": "markdown",
   "metadata": {},
   "source": [
    "### Analysis of Results\n",
    "\n",
    "Based on the results below, one is able to tell that the model has a relatively high accuraccy and precision. The most outstanding metric of this model seems to be the model's ability to recall (meaning it's ability to accurately classify true positives as true positives)."
   ]
  },
  {
   "cell_type": "code",
   "execution_count": 134,
   "metadata": {},
   "outputs": [
    {
     "name": "stdout",
     "output_type": "stream",
     "text": [
      "Accuracy                  :0.7704324633263478\n",
      "error rate                :0.22956753667365215\n",
      "precision                 :0.7185185185185186\n",
      "recall                    :0.9781512605042016\n"
     ]
    }
   ],
   "source": [
    "print(f'Accuracy                  :{accuracy_score(y_test, y_pred)}')\n",
    "print(f'error rate                :{1-accuracy_score(y_test,y_pred)}')\n",
    "print(f'precision                 :{precision_score(y_test,y_pred)}')\n",
    "print(f'recall                    :{recall_score(y_test, y_pred)}')\n"
   ]
  },
  {
   "cell_type": "markdown",
   "metadata": {},
   "source": [
    "Further analysis indicates that the recall ability of the model is very good based on the roc curve (meaning that the when the True Positive Rate is 97.82%, the false positive rate is approximately 50%) and the Area Under the Curve tells one that the model's predictions are approximately 92.4% correct."
   ]
  },
  {
   "cell_type": "code",
   "execution_count": 135,
   "metadata": {},
   "outputs": [
    {
     "name": "stdout",
     "output_type": "stream",
     "text": [
      "ROC Area Under Curve Score:0.9239014655994324\n"
     ]
    },
    {
     "data": {
      "image/png": "[encoded data removed]",
      "text/plain": [
       "<Figure size 432x288 with 1 Axes>"
      ]
     },
     "metadata": {
      "needs_background": "light"
     },
     "output_type": "display_data"
    },
    {
     "name": "stdout",
     "output_type": "stream",
     "text": [
      "K-Fold Cross Validation   :0.7386414114187698\n"
     ]
    }
   ],
   "source": [
    "y_scores = mnb.predict_proba(x_test)\n",
    "y_test = np.array(list(y_test))\n",
    "\n",
    "crossval = cross_val_score(mnb, text_count_matrix, y, cv = KFold(n_splits=10))\n",
    "print(f'ROC Area Under Curve Score:{roc_auc_score(y_test, y_scores[:,1])}')\n",
    "\n",
    "fpr, tpr, thresholds = roc_curve(y_test, y_scores[:,1])\n",
    "\n",
    "plt.figure()\n",
    "lw = 2\n",
    "plt.plot(\n",
    "    fpr,\n",
    "    tpr,\n",
    "    color=\"darkorange\",\n",
    "    lw=lw,\n",
    "    label=\"ROC curve\"\n",
    ")\n",
    "plt.plot([0, 1], [0, 1], color=\"navy\", lw=lw, linestyle=\"--\")\n",
    "plt.xlim([0.0, 1.0])\n",
    "plt.ylim([0.0, 1.05])\n",
    "plt.xlabel(\"False Positive Rate\")\n",
    "plt.ylabel(\"True Positive Rate\")\n",
    "plt.title(\"Receiver Operating Characteristic of Sentimental Analysis\")\n",
    "plt.legend(loc=\"lower right\")\n",
    "plt.show()\n",
    "\n",
    "print(f'K-Fold Cross Validation   :{crossval.mean()}')"
   ]
  },
  {
   "cell_type": "markdown",
   "metadata": {},
   "source": [
    "From the resulting mean K-Fold Cross Validation score, one is able to tell that the amount of data can help increase the accuracy of the model itself."
   ]
  },
  {
   "cell_type": "markdown",
   "metadata": {},
   "source": [
    "### Sources:\n",
    "\n",
    "1. Chaudhury, Srijani. “Building a Sentiment Analyzer with Naive Bayes.” The Startup, 24 Nov. 2020, medium.com/swlh/building-a-sentiment-analyzer-with-naive-bayes-c96cc8aa52a5. Accessed 10 Feb. 2022.\n",
    "2. Google. “Classification: ROC Curve and AUC  |  Machine Learning Crash Course.” Google Developers, 2019, developers.google.com/machine-learning/crash-course/classification/roc-and-auc.\n",
    "3. “K-Fold Cross-Validation in Python Using SKLearn - AskPython.” AskPython, 12 Nov. 2020, www.askpython.com/python/examples/k-fold-cross-validation.\n",
    "4. “Receiver Operating Characteristic (ROC).” Scikit-Learn, scikit-learn.org/stable/auto_examples/model_selection/plot_roc.html. Accessed 10 Feb. 2022.\n",
    "5. SciKit-Learn. “3.1. Cross-Validation: Evaluating Estimator Performance — Scikit-Learn 0.21.3 Documentation.” Scikit-Learn.org, 2009, scikit-learn.org/stable/modules/cross_validation.html.\n",
    "6. Terribile, Matthew. “Understanding Cross Validation’s Purpose.” Medium, 29 July 2017, medium.com/@mtterribile/understanding-cross-validations-purpose-53490faf6a86."
   ]
  }
 ],
 "metadata": {
  "interpreter": {
   "hash": "381354fdf2db71db833037bd920d0e1d9b0c7ba1f03ade08c697116913672196"
  },
  "kernelspec": {
   "display_name": "Python 3.9.6 64-bit",
   "language": "python",
   "name": "python3"
  },
  "language_info": {
   "codemirror_mode": {
    "name": "ipython",
    "version": 3
   },
   "file_extension": ".py",
   "mimetype": "text/x-python",
   "name": "python",
   "nbconvert_exporter": "python",
   "pygments_lexer": "ipython3",
   "version": "3.9.6"
  },
  "orig_nbformat": 4
 },
 "nbformat": 4,
 "nbformat_minor": 2
}
